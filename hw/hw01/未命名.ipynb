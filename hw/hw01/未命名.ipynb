{
 "cells": [
  {
   "cell_type": "code",
   "execution_count": 9,
   "id": "c95803c8",
   "metadata": {},
   "outputs": [],
   "source": [
    "def with_if():\n",
    "    print('Welcome to')\n",
    "    print('61A')\n",
    "\n",
    "\n",
    "    "
   ]
  },
  {
   "cell_type": "code",
   "execution_count": 10,
   "id": "14d300f7",
   "metadata": {},
   "outputs": [
    {
     "name": "stdout",
     "output_type": "stream",
     "text": [
      "Welcome to\n",
      "61A\n"
     ]
    }
   ],
   "source": [
    "result = with_if()\n"
   ]
  },
  {
   "cell_type": "code",
   "execution_count": 7,
   "id": "8b8536d6",
   "metadata": {},
   "outputs": [
    {
     "name": "stdout",
     "output_type": "stream",
     "text": [
      "None\n"
     ]
    }
   ],
   "source": [
    "print(result)"
   ]
  },
  {
   "cell_type": "code",
   "execution_count": 15,
   "id": "3d165907",
   "metadata": {},
   "outputs": [],
   "source": [
    "def with_if_statement():\n",
    "    \"\"\"\n",
    "    >>> result = with_if_statement()\n",
    "    61A\n",
    "    >>> print(result)\n",
    "    None\n",
    "    \"\"\"\n",
    "    if cond():\n",
    "        return true_func()\n",
    "    else:\n",
    "        return false_func()"
   ]
  },
  {
   "cell_type": "code",
   "execution_count": null,
   "id": "fc036c8b",
   "metadata": {},
   "outputs": [],
   "source": [
    "def if_function(condition, true_result, false_result):\n",
    "\n",
    "    if condition:\n",
    "        return true_result\n",
    "    else:\n",
    "        return false_result\n"
   ]
  },
  {
   "cell_type": "code",
   "execution_count": null,
   "id": "fa83aa1e",
   "metadata": {},
   "outputs": [],
   "source": [
    "def true_func():\n",
    "    print('Welcome to')\n",
    "\n",
    "\n",
    "def false_func():\n",
    "    print('61A')"
   ]
  },
  {
   "cell_type": "code",
   "execution_count": null,
   "id": "6093f249",
   "metadata": {},
   "outputs": [],
   "source": [
    "def cond():\n",
    "    return False"
   ]
  },
  {
   "cell_type": "code",
   "execution_count": null,
   "id": "faf8f9a4",
   "metadata": {},
   "outputs": [],
   "source": [
    "if_function (False,true_func(),false_func())"
   ]
  }
 ],
 "metadata": {
  "kernelspec": {
   "display_name": "Python 3 (ipykernel)",
   "language": "python",
   "name": "python3"
  },
  "language_info": {
   "codemirror_mode": {
    "name": "ipython",
    "version": 3
   },
   "file_extension": ".py",
   "mimetype": "text/x-python",
   "name": "python",
   "nbconvert_exporter": "python",
   "pygments_lexer": "ipython3",
   "version": "3.8.2"
  }
 },
 "nbformat": 4,
 "nbformat_minor": 5
}
