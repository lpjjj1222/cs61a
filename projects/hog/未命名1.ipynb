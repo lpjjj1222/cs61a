{
 "cells": [
  {
   "cell_type": "code",
   "execution_count": 3,
   "id": "b443c96c",
   "metadata": {},
   "outputs": [],
   "source": [
    "from random import randint\n",
    "\n",
    "def make_fair_dice(sides):\n",
    "    \"\"\"Return a die that returns 1 to SIDES with equal chance.\"\"\"\n",
    "    assert type(sides) == int and sides >= 1, 'Illegal value for sides'\n",
    "    def dice():\n",
    "        return randint(1,sides)\n",
    "    return dice\n",
    "\n",
    "four_sided = make_fair_dice(4)\n",
    "six_sided = make_fair_dice(6)\n",
    "\n",
    "def make_test_dice(*outcomes):\n",
    "    \"\"\"Return a die that cycles deterministically through OUTCOMES.\n",
    "\n",
    "    >>> dice = make_test_dice(1, 2, 3)\n",
    "    >>> dice()\n",
    "    1\n",
    "    >>> dice()\n",
    "    2\n",
    "    >>> dice()\n",
    "    3\n",
    "    >>> dice()\n",
    "    1\n",
    "    >>> dice()\n",
    "    2\n",
    "\n",
    "    This function uses Python syntax/techniques not yet covered in this course.\n",
    "    The best way to understand it is by reading the documentation and examples.\n",
    "    \"\"\"\n",
    "    assert len(outcomes) > 0, 'You must supply outcomes to make_test_dice'\n",
    "    for o in outcomes:\n",
    "        assert type(o) == int and o >= 1, 'Outcome is not a positive integer'\n",
    "    index = len(outcomes) - 1\n",
    "    def dice():\n",
    "        nonlocal index\n",
    "        index = (index + 1) % len(outcomes)\n",
    "        return outcomes[index]\n",
    "    return dice"
   ]
  },
  {
   "cell_type": "code",
   "execution_count": 4,
   "id": "7a5ad7b4",
   "metadata": {},
   "outputs": [
    {
     "data": {
      "text/plain": [
       "1"
      ]
     },
     "execution_count": 4,
     "metadata": {},
     "output_type": "execute_result"
    }
   ],
   "source": [
    "six_sided()"
   ]
  },
  {
   "cell_type": "code",
   "execution_count": 5,
   "id": "9e314bb6",
   "metadata": {},
   "outputs": [],
   "source": [
    "def try_dice(dice = six_sided):\n",
    "    score = 0\n",
    "    num = 3\n",
    "    while num != 0:\n",
    "        num -= 1\n",
    "        if dice() == 1:\n",
    "            return 1\n",
    "        else:\n",
    "            score += dice()\n",
    "    return score\n",
    "    "
   ]
  },
  {
   "cell_type": "code",
   "execution_count": 6,
   "id": "2bb1a3cc",
   "metadata": {},
   "outputs": [
    {
     "data": {
      "text/plain": [
       "7"
      ]
     },
     "execution_count": 6,
     "metadata": {},
     "output_type": "execute_result"
    }
   ],
   "source": [
    "try_dice(make_test_dice(2,2,3))"
   ]
  },
  {
   "cell_type": "code",
   "execution_count": 24,
   "id": "264bb360",
   "metadata": {},
   "outputs": [],
   "source": [
    "def roll_dice(num_rolls, dice=six_sided):\n",
    "    \"\"\"Simulate rolling the DICE exactly NUM_ROLLS > 0 times. Return the sum of\n",
    "    the outcomes unless any of the outcomes is 1. In that case, return 1.\n",
    "\n",
    "    num_rolls:  The number of dice rolls that will be made.\n",
    "    dice:       A function that simulates a single dice roll outcome.\n",
    "    \"\"\"\n",
    "    # These assert statements ensure that num_rolls is a positive integer.\n",
    "    assert type(num_rolls) == int, 'num_rolls must be an integer.'\n",
    "    assert num_rolls > 0, 'Must roll at least once.'\n",
    "    # BEGIN PROBLEM 1\n",
    "    \"*** YOUR CODE HERE ***\"\n",
    "    score = 0\n",
    "    while num_rolls != 0:\n",
    "        num_rolls -= 1\n",
    "        dice_value = dice()\n",
    "        if dice_value == 1:\n",
    "            return 1\n",
    "        else:\n",
    "            score += dice_value\n",
    "    return score\n",
    "    # END PROBLEM 1"
   ]
  },
  {
   "cell_type": "code",
   "execution_count": 25,
   "id": "49578c56",
   "metadata": {},
   "outputs": [
    {
     "name": "stdout",
     "output_type": "stream",
     "text": [
      "next num: 2\n",
      "this turn dice: 2\n",
      "score: 2\n",
      "next num: 1\n",
      "this turn dice: 4\n",
      "score: 6\n",
      "next num: 0\n",
      "this turn dice: 6\n",
      "score: 12\n"
     ]
    },
    {
     "data": {
      "text/plain": [
       "12"
      ]
     },
     "execution_count": 25,
     "metadata": {},
     "output_type": "execute_result"
    }
   ],
   "source": [
    "roll_dice(3,make_test_dice(2,4,6,1))"
   ]
  },
  {
   "cell_type": "code",
   "execution_count": 13,
   "id": "896de197",
   "metadata": {},
   "outputs": [
    {
     "data": {
      "text/plain": [
       "6"
      ]
     },
     "execution_count": 13,
     "metadata": {},
     "output_type": "execute_result"
    }
   ],
   "source": [
    "f = make_test_dice(4,6,1)\n",
    "f()\n",
    "f()"
   ]
  }
 ],
 "metadata": {
  "kernelspec": {
   "display_name": "Python 3 (ipykernel)",
   "language": "python",
   "name": "python3"
  },
  "language_info": {
   "codemirror_mode": {
    "name": "ipython",
    "version": 3
   },
   "file_extension": ".py",
   "mimetype": "text/x-python",
   "name": "python",
   "nbconvert_exporter": "python",
   "pygments_lexer": "ipython3",
   "version": "3.8.2"
  }
 },
 "nbformat": 4,
 "nbformat_minor": 5
}
