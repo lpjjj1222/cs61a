{
 "cells": [
  {
   "cell_type": "code",
   "execution_count": 15,
   "id": "df592071",
   "metadata": {},
   "outputs": [],
   "source": [
    "def report_progress(typed, prompt, user_id, send):\n",
    "    \"\"\"Send a report of your id and progress so far to the multiplayer server.\"\"\"\n",
    "    # BEGIN PROBLEM 8\n",
    "    \"*** YOUR CODE HERE ***\"\n",
    "    #①：calculate progress\n",
    "    #②：create a dictionary\n",
    "    #③：send the report with 'send' function\n",
    "    \n",
    "    #①：calculate progress\n",
    "    stop = False\n",
    "    correct_words = 0\n",
    "    total = len(prompt)\n",
    "\n",
    "    while prompt and typed and stop == False:\n",
    "        print('typed:',typed[0],'prompt:',prompt[0])\n",
    "        if typed[0] == prompt[0]:\n",
    "            typed = typed[1:]\n",
    "            prompt = prompt[1:]\n",
    "            correct_words += 1\n",
    "        else:\n",
    "            stop = True\n",
    "    progress = correct_words / total\n",
    "    \n",
    "    #②：create a dictionary\n",
    "    report = {'id': user_id, \n",
    "              'progress': progress}\n",
    "    \n",
    "    #③：send the report with 'send' function\n",
    "    return progress\n",
    "    \n",
    "      \n",
    "    \n",
    "    \n",
    "    \n",
    "    \n",
    "    # END PROBLEM 8"
   ]
  },
  {
   "cell_type": "code",
   "execution_count": 16,
   "id": "341005d3",
   "metadata": {},
   "outputs": [
    {
     "name": "stdout",
     "output_type": "stream",
     "text": [
      "typed: I prompt: I\n",
      "typed: have prompt: have\n",
      "typed: begun prompt: begun\n"
     ]
    },
    {
     "data": {
      "text/plain": [
       "0.6"
      ]
     },
     "execution_count": 16,
     "metadata": {},
     "output_type": "execute_result"
    }
   ],
   "source": [
    "\n",
    "typed = ['I', 'have', 'begun']\n",
    "prompt = ['I', 'have', 'begun', 'to', 'type']\n",
    "report_progress(typed, prompt, 1, print_progress) # print_progress is called on the report"
   ]
  }
 ],
 "metadata": {
  "kernelspec": {
   "display_name": "Python 3 (ipykernel)",
   "language": "python",
   "name": "python3"
  },
  "language_info": {
   "codemirror_mode": {
    "name": "ipython",
    "version": 3
   },
   "file_extension": ".py",
   "mimetype": "text/x-python",
   "name": "python",
   "nbconvert_exporter": "python",
   "pygments_lexer": "ipython3",
   "version": "3.8.2"
  }
 },
 "nbformat": 4,
 "nbformat_minor": 5
}
