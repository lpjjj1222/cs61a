{
 "cells": [
  {
   "cell_type": "code",
   "execution_count": 9,
   "id": "467e9a8b",
   "metadata": {},
   "outputs": [],
   "source": [
    "from utils import lower, split, remove_punctuation, lines_from_file\n",
    "from ucb import main, interact, trace\n",
    "from datetime import datetime"
   ]
  },
  {
   "cell_type": "code",
   "execution_count": 10,
   "id": "a24931ae",
   "metadata": {},
   "outputs": [],
   "source": [
    "def choose(paragraphs, select, k):\n",
    "    #select是一个方程，判断是否Select某一个paragraphs,执行完select后获得a list of paragraphs, 选择第k个\n",
    "    \"\"\"Return the Kth paragraph from PARAGRAPHS for which SELECT called on the\n",
    "    paragraph returns true. If there are fewer than K such paragraphs, return\n",
    "    the empty string.\n",
    "    \"\"\"\n",
    "    # BEGIN PROBLEM 1\n",
    "    \"*** YOUR CODE HERE ***\"\n",
    "    valid = [x for x in paragraphs if select(x)==True]\n",
    "    if k < len(valid):\n",
    "               return valid[k]\n",
    "    else:\n",
    "               return ''"
   ]
  },
  {
   "cell_type": "code",
   "execution_count": 11,
   "id": "fe2fd19e",
   "metadata": {},
   "outputs": [],
   "source": [
    "\n",
    "def about(topic):\n",
    "    \"\"\"Return a select function that returns whether a paragraph contains one\n",
    "    of the words in TOPIC.\n",
    "\n",
    "    >>> about_dogs = about(['dog', 'dogs', 'pup', 'puppy'])\n",
    "    >>> choose(['Cute Dog!', 'That is a cat.', 'Nice pup!'], about_dogs, 0)\n",
    "    'Cute Dog!'\n",
    "    >>> choose(['Cute Dog!', 'That is a cat.', 'Nice pup.'], about_dogs, 1)\n",
    "    'Nice pup.'\n",
    "    \"\"\"\n",
    "    #about 传入 限定的字符list，返回一个方程，方程传入的是String\n",
    "    assert all([lower(x) == x for x in topic]), 'topics should be lowercase.'\n",
    "    # BEGIN PROBLEM 2\n",
    "    \"*** YOUR CODE HERE ***\"\n",
    "    import utils\n",
    "    def judging(string):\n",
    "        string = utils.remove_punctuation(string)\n",
    "        string = utils.lower(string)\n",
    "        string = utils.split(string)\n",
    "        #string变成了一个list,里面每个元素是一些被空格分开的字符\n",
    "        selected_string = [x for x in string if x in topic]\n",
    "        if len(selected_string) > 0:\n",
    "            return True\n",
    "        else:\n",
    "            return False\n",
    "        \n",
    "    return judging\n",
    "        \n",
    "        \n",
    "        \n",
    "    # END PROBLEM 2"
   ]
  },
  {
   "cell_type": "code",
   "execution_count": 14,
   "id": "0f8cca5b",
   "metadata": {},
   "outputs": [
    {
     "data": {
      "text/plain": [
       "'Nice pup.'"
      ]
     },
     "execution_count": 14,
     "metadata": {},
     "output_type": "execute_result"
    }
   ],
   "source": [
    "about_dogs = about(['dog', 'dogs', 'pup', 'puppy'])\n",
    "choose(['Cute Dog!', 'That is a cat.', 'Nice pup!'], about_dogs, 0)\n",
    "choose(['Cute Dog!', 'That is a cat.', 'Nice pup.'], about_dogs, 1)"
   ]
  },
  {
   "cell_type": "code",
   "execution_count": 29,
   "id": "674b339a",
   "metadata": {},
   "outputs": [],
   "source": [
    "\n",
    "def accuracy(typed, reference):\n",
    "    \"\"\"Return the accuracy (percentage of words typed correctly) of TYPED\n",
    "    when compared to the prefix of REFERENCE that was typed.\n",
    "\n",
    "    >>> accuracy('Cute Dog!', 'Cute Dog.')\n",
    "    50.0\n",
    "    >>> accuracy('A Cute Dog!', 'Cute Dog.')\n",
    "    0.0\n",
    "    >>> accuracy('cute Dog.', 'Cute Dog.')\n",
    "    50.0\n",
    "    >>> accuracy('Cute Dog. I say!', 'Cute Dog.')\n",
    "    50.0\n",
    "    >>> accuracy('Cute', 'Cute Dog.')\n",
    "    100.0\n",
    "    >>> accuracy('', 'Cute Dog.')\n",
    "    0.0\n",
    "    \"\"\"\n",
    "    typed_words = split(typed)\n",
    "    reference_words = split(reference)\n",
    "    # BEGIN PROBLEM 3\n",
    "    \"*** YOUR CODE HERE ***\"\n",
    "    iter_num = min(len(typed_words),len(reference_words))\n",
    "    matching = 0\n",
    "    for i in range(iter_num):\n",
    "        if typed_words[i] == reference_words[i]:\n",
    "            matching += 1\n",
    "    if len(typed_words):\n",
    "        return round(matching/len(typed_words)*100,1)\n",
    "    else:\n",
    "        return 0.0\n",
    "    \n",
    "    # END PROBLEM 3"
   ]
  },
  {
   "cell_type": "code",
   "execution_count": 43,
   "id": "1afab18b",
   "metadata": {},
   "outputs": [],
   "source": [
    "def wpm(typed, elapsed):\n",
    "    \"\"\"Return the words-per-minute (WPM) of the TYPED string.\"\"\"\n",
    "    assert elapsed > 0, 'Elapsed time must be positive'\n",
    "    # BEGIN PROBLEM 4\n",
    "    \"*** YOUR CODE HERE ***\"\n",
    "    return (len(typed)/5) / (elapsed / 60)\n",
    "    \n",
    "    # END PROBLEM 4"
   ]
  },
  {
   "cell_type": "code",
   "execution_count": 44,
   "id": "b7d4fc7d",
   "metadata": {},
   "outputs": [
    {
     "data": {
      "text/plain": [
       "60.0"
      ]
     },
     "execution_count": 44,
     "metadata": {},
     "output_type": "execute_result"
    }
   ],
   "source": [
    "wpm('I am glad!',2)"
   ]
  }
 ],
 "metadata": {
  "kernelspec": {
   "display_name": "Python 3 (ipykernel)",
   "language": "python",
   "name": "python3"
  },
  "language_info": {
   "codemirror_mode": {
    "name": "ipython",
    "version": 3
   },
   "file_extension": ".py",
   "mimetype": "text/x-python",
   "name": "python",
   "nbconvert_exporter": "python",
   "pygments_lexer": "ipython3",
   "version": "3.8.2"
  }
 },
 "nbformat": 4,
 "nbformat_minor": 5
}
