{
 "cells": [
  {
   "cell_type": "code",
   "execution_count": 2,
   "id": "4e6f4701",
   "metadata": {},
   "outputs": [],
   "source": [
    "def report_progress(typed, prompt, user_id, send):\n",
    "    \"\"\"Send a report of your id and progress so far to the multiplayer server.\"\"\"\n",
    "    # BEGIN PROBLEM 8\n",
    "    \"*** YOUR CODE HERE ***\"\n",
    "    #①：calculate progress\n",
    "    #②：create a dictionary\n",
    "    #③：send the report with 'send' function\n",
    "    \n",
    "    #①：calculate progress\n",
    "    stop = False\n",
    "    correct_words = 0\n",
    "    while not prompt or not typed or stop == True:\n",
    "        if typed[0] == prompt[0]:\n",
    "            typed = typed[1:]\n",
    "            prompt = prompt[1:]\n",
    "            correct_words += 1\n",
    "        else:\n",
    "            stop = True\n",
    "    progress = correct_words / len(prompt)\n",
    "    \n",
    "    #②：create a dictionary\n",
    "    report = {'id': user_id, \n",
    "              'progress': progress}\n",
    "    \n",
    "    #③：send the report with 'send' function\n",
    "    return progress\n",
    "    \n",
    "      \n",
    "    \n",
    "    \n",
    "    \n",
    "    \n",
    "    # END PROBLEM 8"
   ]
  },
  {
   "cell_type": "code",
   "execution_count": 3,
   "id": "12ee66df",
   "metadata": {},
   "outputs": [
    {
     "name": "stdout",
     "output_type": "stream",
     "text": [
      "ID: 1 Progress: 0.6\n"
     ]
    },
    {
     "data": {
      "text/plain": [
       "0.0"
      ]
     },
     "execution_count": 3,
     "metadata": {},
     "output_type": "execute_result"
    }
   ],
   "source": [
    "print_progress = lambda d: print('ID:', d['id'], 'Progress:', d['progress'])\n",
    "typed = ['I', 'have', 'begun']\n",
    "prompt = ['I', 'have', 'begun', 'to', 'type']\n",
    "print_progress({'id': 1, 'progress': 0.6})\n",
    "report_progress(typed, prompt, 1, print_progress) # print_progress is called on the report"
   ]
  }
 ],
 "metadata": {
  "kernelspec": {
   "display_name": "Python 3 (ipykernel)",
   "language": "python",
   "name": "python3"
  },
  "language_info": {
   "codemirror_mode": {
    "name": "ipython",
    "version": 3
   },
   "file_extension": ".py",
   "mimetype": "text/x-python",
   "name": "python",
   "nbconvert_exporter": "python",
   "pygments_lexer": "ipython3",
   "version": "3.8.2"
  }
 },
 "nbformat": 4,
 "nbformat_minor": 5
}
